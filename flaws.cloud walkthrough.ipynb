{
 "cells": [
  {
   "cell_type": "markdown",
   "metadata": {},
   "source": [
    "# Level 1[direct link](http://flaws.cloud/)\n",
    "hint 1 explained this challenge is not about injection or something you could find in other CTFs. The it hinted that `flaws.cloud` is hosted in S3 bucket, and permission in loose. So this just worked: `aws s3 ls s3://flaws.cloud`. There is a secret file which is suspicious, append that to the url and we got the link to the next level\n",
    "\n",
    "# Level 2 [direct link](http://level2-c8b217a33fcf1f839f6f1f73a00a9ae7.flaws.cloud/)\n",
    "Same as Level 1\n",
    "\n",
    "# Level3 [direct link](http://level3-9afd3927f195e10225021a578e6f78df.flaws.cloud/)\n",
    "Look inside of the S3 bucket I see .git folder. Download the S3 files using `mkdir flaws3 %% cd flaws3 %% aws s3 sync s3://level3-9afd3927f195e10225021a578e6f78df.flaws.cloud/ .`\n",
    "then check git log. Looks like somebody made a mistake, and tried to cover it. So let's `git checkout f52ec03b227ea6094b04e43f475fb0126edb5a61` to get back to the first commit.\n",
    "now there is an access_key.txt file in the directory, which we can use to access the s3 bucket. Setup new access `aws configure --profile flaws` with just found credentials. Then `aws --profile flaws s3 ls` to list files under the profile.\n",
    "\n",
    "# Level 4 [direct link](http://level4-1156739cfb264ced6de514971a4bef68.flaws.cloud)\n"
   ]
  },
  {
   "cell_type": "code",
   "execution_count": null,
   "metadata": {},
   "outputs": [],
   "source": []
  },
  {
   "cell_type": "code",
   "execution_count": null,
   "metadata": {},
   "outputs": [],
   "source": []
  }
 ],
 "metadata": {
  "kernelspec": {
   "display_name": "Python 3",
   "language": "python",
   "name": "python3"
  },
  "language_info": {
   "codemirror_mode": {
    "name": "ipython",
    "version": 3
   },
   "file_extension": ".py",
   "mimetype": "text/x-python",
   "name": "python",
   "nbconvert_exporter": "python",
   "pygments_lexer": "ipython3",
   "version": "3.5.3"
  }
 },
 "nbformat": 4,
 "nbformat_minor": 2
}
